{
 "cells": [
  {
   "cell_type": "code",
   "execution_count": 1,
   "metadata": {},
   "outputs": [],
   "source": [
    "from collections import defaultdict\n",
    "import re\n",
    "\n",
    "import matplotlib.pyplot as plt"
   ]
  },
  {
   "cell_type": "code",
   "execution_count": 2,
   "metadata": {},
   "outputs": [],
   "source": [
    "dictionary_path = \"/usr/share/dict/words\"\n",
    "\n",
    "counted_words = {}\n",
    "word_length_record = defaultdict(int)\n",
    "word_length_record.default_factory = lambda: 0 #set default value of new key to 1\n",
    "double_alph_pattern = re.compile(r'([a-z]+)\\1+', re.IGNORECASE)\n",
    "double_alph_count = 0\n",
    "\n",
    "with open(dictionary_path) as f:\n",
    "    for word in f:\n",
    "        word = word.split()[0]\n",
    "        first_letter = word[0].upper()\n",
    "        word_length_record[len(word)] += 1\n",
    "        if re.search(double_alph_pattern, word):\n",
    "            double_alph_count += 1\n",
    "        if first_letter in counted_words:\n",
    "            counted_words[first_letter] += 1\n",
    "        else:\n",
    "            counted_words[first_letter] = 0"
   ]
  },
  {
   "cell_type": "markdown",
   "metadata": {},
   "source": [
    "The most repeated alphabet is: "
   ]
  },
  {
   "cell_type": "code",
   "execution_count": 3,
   "metadata": {},
   "outputs": [
    {
     "data": {
      "text/plain": [
       "'S'"
      ]
     },
     "execution_count": 3,
     "metadata": {},
     "output_type": "execute_result"
    }
   ],
   "source": [
    "most_repeated_alph = max(counted_words, key=counted_words.get)\n",
    "most_repeated_alph"
   ]
  },
  {
   "cell_type": "markdown",
   "metadata": {},
   "source": [
    "Number of words with repeated alphabet ocuuring simultaneously (for eg: Drool)is:"
   ]
  },
  {
   "cell_type": "code",
   "execution_count": 4,
   "metadata": {},
   "outputs": [
    {
     "data": {
      "text/plain": [
       "22993"
      ]
     },
     "execution_count": 4,
     "metadata": {},
     "output_type": "execute_result"
    }
   ],
   "source": [
    "double_alph_count"
   ]
  },
  {
   "cell_type": "markdown",
   "metadata": {},
   "source": [
    "The word length distribution dictionary is in the following format:"
   ]
  },
  {
   "cell_type": "code",
   "execution_count": 5,
   "metadata": {},
   "outputs": [
    {
     "data": {
      "text/plain": [
       "{1: 52,\n",
       " 2: 182,\n",
       " 3: 846,\n",
       " 4: 3352,\n",
       " 5: 6799,\n",
       " 6: 11302,\n",
       " 7: 14788,\n",
       " 8: 15684,\n",
       " 9: 14248,\n",
       " 10: 11529}"
      ]
     },
     "execution_count": 5,
     "metadata": {},
     "output_type": "execute_result"
    }
   ],
   "source": [
    "{A:N for (A,N) in [x for x in word_length_record.items()][:10]}"
   ]
  },
  {
   "cell_type": "markdown",
   "metadata": {},
   "source": [
    "Plotting the the above word length data using matplotlib:"
   ]
  },
  {
   "cell_type": "code",
   "execution_count": 6,
   "metadata": {},
   "outputs": [
    {
     "data": {
      "text/plain": [
       "<BarContainer object of 23 artists>"
      ]
     },
     "execution_count": 6,
     "metadata": {},
     "output_type": "execute_result"
    },
    {
     "data": {
      "image/png": "[encoded data removed]",
      "text/plain": [
       "<Figure size 432x288 with 1 Axes>"
      ]
     },
     "metadata": {
      "needs_background": "light"
     },
     "output_type": "display_data"
    }
   ],
   "source": [
    "plt.xlabel(\"Frequency\")\n",
    "plt.ylabel(\"Word length\")\n",
    "plt.bar(word_length_record.keys(), word_length_record.values(), 0.5, color='b')"
   ]
  }
 ],
 "metadata": {
  "kernelspec": {
   "display_name": "Python 3",
   "language": "python",
   "name": "python3"
  },
  "language_info": {
   "codemirror_mode": {
    "name": "ipython",
    "version": 3
   },
   "file_extension": ".py",
   "mimetype": "text/x-python",
   "name": "python",
   "nbconvert_exporter": "python",
   "pygments_lexer": "ipython3",
   "version": "3.5.2"
  }
 },
 "nbformat": 4,
 "nbformat_minor": 4
}
